{
 "cells": [
  {
   "cell_type": "code",
   "execution_count": 2,
   "id": "9b4dd0b8",
   "metadata": {},
   "outputs": [
    {
     "name": "stdout",
     "output_type": "stream",
     "text": [
      "Enter Your Email: ayshankar2002@gmail.com\n",
      "Your username is ayshankar2002 & domain is gmail.com\n"
     ]
    }
   ],
   "source": [
    "email = input(\"Enter Your Email: \").strip()\n",
    "\n",
    "username = email[:email.index('@')]\n",
    "domain = email[email.index('@') + 1:]\n",
    "\n",
    "print(f\"Your username is {username} & domain is {domain}\")"
   ]
  }
 ],
 "metadata": {
  "kernelspec": {
   "display_name": "Python 3",
   "language": "python",
   "name": "python3"
  },
  "language_info": {
   "codemirror_mode": {
    "name": "ipython",
    "version": 3
   },
   "file_extension": ".py",
   "mimetype": "text/x-python",
   "name": "python",
   "nbconvert_exporter": "python",
   "pygments_lexer": "ipython3",
   "version": "3.8.8"
  }
 },
 "nbformat": 4,
 "nbformat_minor": 5
}
